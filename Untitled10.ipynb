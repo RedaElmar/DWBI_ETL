{
  "nbformat": 4,
  "nbformat_minor": 0,
  "metadata": {
    "colab": {
      "name": "Untitled10.ipynb",
      "provenance": [],
      "collapsed_sections": [],
      "authorship_tag": "ABX9TyNVc9js1J2DTWk7MdoKpHMQ",
      "include_colab_link": true
    },
    "kernelspec": {
      "name": "python3",
      "display_name": "Python 3"
    }
  },
  "cells": [
    {
      "cell_type": "markdown",
      "metadata": {
        "id": "view-in-github",
        "colab_type": "text"
      },
      "source": [
        "<a href=\"https://colab.research.google.com/github/RedaElmar/DWBI_ETL/blob/master/Untitled10.ipynb\" target=\"_parent\"><img src=\"https://colab.research.google.com/assets/colab-badge.svg\" alt=\"Open In Colab\"/></a>"
      ]
    },
    {
      "cell_type": "code",
      "metadata": {
        "colab": {
          "base_uri": "https://localhost:8080/"
        },
        "id": "cTFAFMgWdwag",
        "outputId": "e039457e-7080-4ffb-cab6-f6b9f1bb0972"
      },
      "source": [
        "!git clone https://github.com/jayrav13/bls_local_area_unemployment.git"
      ],
      "execution_count": 1,
      "outputs": [
        {
          "output_type": "stream",
          "text": [
            "Cloning into 'bls_local_area_unemployment'...\n",
            "remote: Enumerating objects: 67, done.\u001b[K\n",
            "remote: Total 67 (delta 0), reused 0 (delta 0), pack-reused 67\u001b[K\n",
            "Unpacking objects: 100% (67/67), done.\n"
          ],
          "name": "stdout"
        }
      ]
    },
    {
      "cell_type": "code",
      "metadata": {
        "colab": {
          "base_uri": "https://localhost:8080/"
        },
        "id": "X1KUTd7ptwIE",
        "outputId": "f21787c7-6e03-40f6-bf4c-dc4b19c348f8"
      },
      "source": [
        "!pip install 2to3\r\n"
      ],
      "execution_count": 15,
      "outputs": [
        {
          "output_type": "stream",
          "text": [
            "Collecting 2to3\n",
            "  Downloading https://files.pythonhosted.org/packages/15/31/e44eeb0bc18c5cb2df7c1914e00241da329c88ee4cd0d7139e716d4519c6/2to3-1.0-py3-none-any.whl\n",
            "Installing collected packages: 2to3\n",
            "Successfully installed 2to3-1.0\n"
          ],
          "name": "stdout"
        }
      ]
    },
    {
      "cell_type": "code",
      "metadata": {
        "id": "rC5dBcS8t5Iq"
      },
      "source": [
        "!2to3 -w bls/retrieve.py"
      ],
      "execution_count": null,
      "outputs": []
    },
    {
      "cell_type": "code",
      "metadata": {
        "id": "KJ4vErmMxWaC"
      },
      "source": [
        "!2to3 -w bls/transform.py"
      ],
      "execution_count": null,
      "outputs": []
    },
    {
      "cell_type": "code",
      "metadata": {
        "id": "lQDG9fY3xbra"
      },
      "source": [
        "#--------------------------------------\r\n",
        "#\r\n",
        "#   This file cleans employment ane unemployment data by County from the BLS Local\r\n",
        "#   Area Unemployment statistics: https://download.bls.gov/pub/time.series/la/\r\n",
        "#\r\n",
        "#   The code produces a .csv with data for:\r\n",
        "#       - Employment (level)\r\n",
        "#       - Unemployment (level)\r\n",
        "#       - Unemployment rate\r\n",
        "#       - Labor force (level)\r\n",
        "#\r\n",
        "#   Data are available monthly from 1990-2017 (can be updated with data from the website above).\r\n",
        "#--------------------------------------\r\n",
        "\r\n",
        "import pandas as pd\r\n",
        "import requests\r\n",
        "\r\n",
        "#------------------------------------------------------\r\n",
        "# Download and save .TXT files from BLS website into current directory\r\n",
        "\r\n",
        "BLS_url = 'https://download.bls.gov/pub/time.series/la/'\r\n",
        "\r\n",
        "filenames = ['la.area',\r\n",
        "              'la.data.0.CurrentU90-94', 'la.data.0.CurrentU95-99',\r\n",
        "              'la.data.0.CurrentU00-04', 'la.data.0.CurrentU05-09',\r\n",
        "              'la.data.0.CurrentU10-14','la.data.0.CurrentU15-19']\r\n",
        "\r\n",
        "for xx in filenames:\r\n",
        "    dls = BLS_url+xx\r\n",
        "    resp = requests.get(dls)\r\n",
        "\r\n",
        "    output = open(xx+'.txt', 'wb')\r\n",
        "    output.write(resp.content)\r\n",
        "    output.close()\r\n",
        "# Import area information\r\n",
        "df_areas = pd.read_table('la.area.txt')\r\n",
        "df_areas = df_areas[['area_code', 'area_text']]\r\n",
        "\r\n",
        "# Only keep county information\r\n",
        "df_areas = df_areas.loc[df_areas['area_code'].str.contains('CN')]\r\n",
        "df_areas.reset_index(drop=True, inplace=True)\r\n",
        "\r\n",
        "# Rename columns\r\n",
        "df_areas.columns = ['area_code', 'countyname']\r\n",
        "\r\n",
        "# Get county and state information\r\n",
        "tmp = df_areas['countyname'].str.split(', ', expand=True)\r\n",
        "df_areas['countyname'] = tmp[0]\r\n",
        "df_areas['state'] = tmp[1]\r\n",
        "\r\n",
        "# Remove whitespace\r\n",
        "df_areas['area_code'] = df_areas['area_code'].map(lambda x: x.strip())\r\n",
        "df_areas['countyname'] = df_areas['countyname'].map(lambda x: x.strip())\r\n",
        "#df_areas['state'] = df_areas['state'].map(lambda x: x.strip())    # Doesn't work when missing states?\r\n",
        "\r\n",
        "\r\n",
        "#------------------------------------------------------"
      ],
      "execution_count": 2,
      "outputs": []
    },
    {
      "cell_type": "code",
      "metadata": {
        "id": "8RBW6NQ---kU"
      },
      "source": [
        "\r\n",
        "def get_BLS_county_data(BLS_data_path, df_areas):\r\n",
        "    '''\r\n",
        "    BLS_data_path : path for the text file containing the BLS data\r\n",
        "    df_areas      : dataframe containing BLS information about counties/areas\r\n",
        "    '''\r\n",
        "    # Import area information\r\n",
        "    col_types = {'series_id': str, 'year': int, 'period': str, 'value': str, 'footnote_codes': str}\r\n",
        "    df_bls_county = pd.read_table(BLS_data_path, dtype=col_types)\r\n",
        "    \r\n",
        "    # Remove white space from code..\r\n",
        "    df_bls_county['series_id'] = df_bls_county['series_id                     '].map(lambda x: x.strip())\r\n",
        "    \r\n",
        "    # Convert 'value' to numeric (kind of slow...)\r\n",
        "    df_bls_county['value'] = df_bls_county['       value'].apply(pd.to_numeric, errors='coerce')\r\n",
        "\r\n",
        "    # Get variable code\r\n",
        "    df_bls_county['var_code'] = df_bls_county['series_id'].str[-2:]\r\n",
        "\r\n",
        "    # Get area code\r\n",
        "    df_bls_county['series_id'] = df_bls_county['series_id'].astype(str).str[3:].str[:-2]\r\n",
        "\r\n",
        "    # Get FIPS code (as string to preserve initial zeros)\r\n",
        "    df_bls_county['FIPS'] = df_bls_county['series_id'].str[2:7]\r\n",
        "\r\n",
        "    #------------------------------------------------------------\r\n",
        "    # Only keep rows corresponding to counties\r\n",
        "    df_bls_county = df_bls_county.loc[df_bls_county['series_id'].str.contains('CN')]\r\n",
        "\r\n",
        "    # Drop columns, reset index\r\n",
        "    df_bls_county = df_bls_county[['series_id','year','period','value','var_code','FIPS']]\r\n",
        "    df_bls_county.reset_index(drop=True, inplace=True)\r\n",
        "\r\n",
        "    # Rename codes with variable names, rename columns\r\n",
        "    df_bls_county['var_code'] = df_bls_county['var_code'].map({'03': 'Unemployment_Rate', '04': 'Unemployment',\r\n",
        "                                                                 '05': 'Employment', '06': 'Labor_Force'})\r\n",
        "    df_bls_county.columns = ['area_code', 'year', 'month', 'value','variable_name', 'FIPS']\r\n",
        "\r\n",
        "    # Drop month 13 (I think this is the year average?)\r\n",
        "    df_bls_county = df_bls_county.loc[df_bls_county['month']!='M13']\r\n",
        "    # Convert month to numeric values\r\n",
        "    df_bls_county['month'] = pd.to_numeric(df_bls_county['month'].str[1:])\r\n",
        "\r\n",
        "    #------------------------------------------------------------\r\n",
        "    # Merge area names and data\r\n",
        "    df_bls_county = pd.merge(df_bls_county, df_areas, how='inner', on='area_code')\r\n",
        "\r\n",
        "    # Convert to wide-format table\r\n",
        "    df_bls_county = df_bls_county.pivot_table(values='value', index=['area_code', 'FIPS', 'state', 'countyname',\r\n",
        "                                                            'year', 'month'], columns='variable_name')\r\n",
        "    df_bls_county.reset_index(inplace=True)\r\n",
        "    df_bls_county.columns.name = None\r\n",
        "    #------------------------------------------------------------\r\n",
        "    print('Done!')\r\n",
        "\r\n",
        "    return df_bls_county\r\n"
      ],
      "execution_count": 45,
      "outputs": []
    },
    {
      "cell_type": "code",
      "metadata": {
        "colab": {
          "base_uri": "https://localhost:8080/"
        },
        "id": "uH54diA6E5AX",
        "outputId": "aa8d4497-965f-45c9-da3a-33c052b8976d"
      },
      "source": [
        "df_unemp_10_14 = get_BLS_county_data('la.data.0.CurrentU10-14.txt', df_areas)"
      ],
      "execution_count": 46,
      "outputs": [
        {
          "output_type": "stream",
          "text": [
            "Done!\n"
          ],
          "name": "stdout"
        }
      ]
    },
    {
      "cell_type": "code",
      "metadata": {
        "id": "ELha2K4_IPj9"
      },
      "source": [
        "df_unemp_10_14.tail(30)"
      ],
      "execution_count": null,
      "outputs": []
    },
    {
      "cell_type": "code",
      "metadata": {
        "colab": {
          "base_uri": "https://localhost:8080/"
        },
        "id": "xC6y3SySJ4dA",
        "outputId": "dd9f6274-a8f6-4692-bb2d-78c7887f6e15"
      },
      "source": [
        "df_unemp_10_14.columns"
      ],
      "execution_count": 41,
      "outputs": [
        {
          "output_type": "execute_result",
          "data": {
            "text/plain": [
              "Index(['series_id                     ', 'year', 'period', '       value',\n",
              "       'footnote_codes'],\n",
              "      dtype='object')"
            ]
          },
          "metadata": {
            "tags": []
          },
          "execution_count": 41
        }
      ]
    },
    {
      "cell_type": "code",
      "metadata": {
        "colab": {
          "base_uri": "https://localhost:8080/"
        },
        "id": "yXggS6_vE5mc",
        "outputId": "b8770dc6-3f2c-4f26-e451-44469563bdeb"
      },
      "source": [
        "\r\n",
        "#------------------------------------------------------------\r\n",
        "# Import all years of data\r\n",
        "\r\n",
        "df_unemp_00_04 = get_BLS_county_data('la.data.0.CurrentU00-04.txt', df_areas)\r\n",
        "df_unemp_05_09 = get_BLS_county_data('la.data.0.CurrentU05-09.txt', df_areas)\r\n",
        "df_unemp_10_14 = get_BLS_county_data('la.data.0.CurrentU10-14.txt', df_areas)\r\n",
        "df_unemp_15_19 = get_BLS_county_data('la.data.0.CurrentU15-19.txt', df_areas)\r\n",
        "\r\n",
        "#------------------------------------------------------------\r\n",
        "# Merge all year's data\r\n",
        "df_unemp_county = df_unemp_00_04\r\n",
        "df_unemp_county = df_unemp_county.append(df_unemp_05_09)\r\n",
        "df_unemp_county = df_unemp_county.append(df_unemp_10_14)\r\n",
        "df_unemp_county = df_unemp_county.append(df_unemp_15_19)\r\n",
        "\r\n",
        "# Sort by year-month\r\n",
        "df_unemp_county = df_unemp_county.sort_values(by=['area_code', 'year', 'month'], axis=0)\r\n",
        "\r\n",
        "# Save to CSV\r\n",
        "df_unemp_county[['FIPS', 'state', 'countyname', 'year', 'month','Employment', 'Labor_Force', 'Unemployment', 'Unemployment_Rate']].to_csv('BLS_county_employment.csv', index=False)"
      ],
      "execution_count": 50,
      "outputs": [
        {
          "output_type": "stream",
          "text": [
            "Done!\n"
          ],
          "name": "stdout"
        },
        {
          "output_type": "stream",
          "text": [
            "/usr/local/lib/python3.6/dist-packages/IPython/core/interactiveshell.py:2882: DtypeWarning: Columns (3) have mixed types.Specify dtype option on import or set low_memory=False.\n",
            "  exec(code_obj, self.user_global_ns, self.user_ns)\n"
          ],
          "name": "stderr"
        },
        {
          "output_type": "stream",
          "text": [
            "Done!\n",
            "Done!\n",
            "Done!\n"
          ],
          "name": "stdout"
        }
      ]
    },
    {
      "cell_type": "code",
      "metadata": {
        "colab": {
          "base_uri": "https://localhost:8080/"
        },
        "id": "28tCpKhcGYU0",
        "outputId": "778b373d-95fe-4345-b9bb-a1b36485d42c"
      },
      "source": [
        "!ls -l -sh"
      ],
      "execution_count": 54,
      "outputs": [
        {
          "output_type": "stream",
          "text": [
            "total 705M\n",
            " 43M -rw-r--r-- 1 root root  43M Dec 21 12:05 BLS_county_employment.csv\n",
            "1.3M -rw-r--r-- 1 root root 1.3M Dec 21 11:41 BLS_Industry_Data_by_County.csv\n",
            "4.0K drwxr-xr-x 3 root root 4.0K Dec 21 10:50 data\n",
            "428K -rw-r--r-- 1 root root 428K Dec 21 11:07 la.area.txt\n",
            "112M -rw-r--r-- 1 root root 112M Dec 21 11:07 la.data.0.CurrentU00-04.txt\n",
            "112M -rw-r--r-- 1 root root 112M Dec 21 11:07 la.data.0.CurrentU05-09.txt\n",
            "114M -rw-r--r-- 1 root root 114M Dec 21 11:07 la.data.0.CurrentU10-14.txt\n",
            "114M -rw-r--r-- 1 root root 114M Dec 21 11:07 la.data.0.CurrentU15-19.txt\n",
            "106M -rw-r--r-- 1 root root 106M Dec 21 11:07 la.data.0.CurrentU90-94.txt\n",
            "107M -rw-r--r-- 1 root root 107M Dec 21 11:07 la.data.0.CurrentU95-99.txt\n",
            "4.0K drwxr-xr-x 1 root root 4.0K Dec  2 22:04 sample_data\n"
          ],
          "name": "stdout"
        }
      ]
    },
    {
      "cell_type": "code",
      "metadata": {
        "colab": {
          "base_uri": "https://localhost:8080/"
        },
        "id": "R1VCV1ScGpPC",
        "outputId": "ba7a695e-6c76-4e0f-f9e4-2fe45829beac"
      },
      "source": [
        "!git clone https://github.com/RedaElmar/DWBI_ETL"
      ],
      "execution_count": 1,
      "outputs": [
        {
          "output_type": "stream",
          "text": [
            "Cloning into 'DWBI_ETL'...\n",
            "remote: Enumerating objects: 15, done.\u001b[K\n",
            "remote: Counting objects: 100% (15/15), done.\u001b[K\n",
            "remote: Compressing objects: 100% (12/12), done.\u001b[K\n",
            "remote: Total 15 (delta 0), reused 12 (delta 0), pack-reused 0\u001b[K\n",
            "Unpacking objects: 100% (15/15), done.\n"
          ],
          "name": "stdout"
        }
      ]
    },
    {
      "cell_type": "code",
      "metadata": {
        "id": "3bh16I2WnA1R"
      },
      "source": [
        "data=pd.read_csv(\"DWBI_ETL/data/BLS_county_employment_scraped.csv\")"
      ],
      "execution_count": 6,
      "outputs": []
    },
    {
      "cell_type": "code",
      "metadata": {
        "colab": {
          "base_uri": "https://localhost:8080/",
          "height": 194
        },
        "id": "yUhP7_f4oV36",
        "outputId": "b5797b94-997e-4299-93be-e8c236bbd72d"
      },
      "source": [
        "data.head()"
      ],
      "execution_count": 13,
      "outputs": [
        {
          "output_type": "execute_result",
          "data": {
            "text/html": [
              "<div>\n",
              "<style scoped>\n",
              "    .dataframe tbody tr th:only-of-type {\n",
              "        vertical-align: middle;\n",
              "    }\n",
              "\n",
              "    .dataframe tbody tr th {\n",
              "        vertical-align: top;\n",
              "    }\n",
              "\n",
              "    .dataframe thead th {\n",
              "        text-align: right;\n",
              "    }\n",
              "</style>\n",
              "<table border=\"1\" class=\"dataframe\">\n",
              "  <thead>\n",
              "    <tr style=\"text-align: right;\">\n",
              "      <th></th>\n",
              "      <th>FIPS</th>\n",
              "      <th>state</th>\n",
              "      <th>countyname</th>\n",
              "      <th>year</th>\n",
              "      <th>month</th>\n",
              "      <th>Employment</th>\n",
              "      <th>Labor_Force</th>\n",
              "      <th>Unemployment</th>\n",
              "      <th>Unemployment_Rate</th>\n",
              "    </tr>\n",
              "  </thead>\n",
              "  <tbody>\n",
              "    <tr>\n",
              "      <th>0</th>\n",
              "      <td>1001</td>\n",
              "      <td>AL</td>\n",
              "      <td>Autauga County</td>\n",
              "      <td>2000</td>\n",
              "      <td>1</td>\n",
              "      <td>20719.0</td>\n",
              "      <td>21672.0</td>\n",
              "      <td>953.0</td>\n",
              "      <td>4.4</td>\n",
              "    </tr>\n",
              "    <tr>\n",
              "      <th>1</th>\n",
              "      <td>1001</td>\n",
              "      <td>AL</td>\n",
              "      <td>Autauga County</td>\n",
              "      <td>2000</td>\n",
              "      <td>2</td>\n",
              "      <td>20795.0</td>\n",
              "      <td>21779.0</td>\n",
              "      <td>984.0</td>\n",
              "      <td>4.5</td>\n",
              "    </tr>\n",
              "    <tr>\n",
              "      <th>2</th>\n",
              "      <td>1001</td>\n",
              "      <td>AL</td>\n",
              "      <td>Autauga County</td>\n",
              "      <td>2000</td>\n",
              "      <td>3</td>\n",
              "      <td>20872.0</td>\n",
              "      <td>21710.0</td>\n",
              "      <td>838.0</td>\n",
              "      <td>3.9</td>\n",
              "    </tr>\n",
              "    <tr>\n",
              "      <th>3</th>\n",
              "      <td>1001</td>\n",
              "      <td>AL</td>\n",
              "      <td>Autauga County</td>\n",
              "      <td>2000</td>\n",
              "      <td>4</td>\n",
              "      <td>20950.0</td>\n",
              "      <td>21631.0</td>\n",
              "      <td>681.0</td>\n",
              "      <td>3.1</td>\n",
              "    </tr>\n",
              "    <tr>\n",
              "      <th>4</th>\n",
              "      <td>1001</td>\n",
              "      <td>AL</td>\n",
              "      <td>Autauga County</td>\n",
              "      <td>2000</td>\n",
              "      <td>5</td>\n",
              "      <td>20879.0</td>\n",
              "      <td>21641.0</td>\n",
              "      <td>762.0</td>\n",
              "      <td>3.5</td>\n",
              "    </tr>\n",
              "  </tbody>\n",
              "</table>\n",
              "</div>"
            ],
            "text/plain": [
              "   FIPS state      countyname  ...  Labor_Force  Unemployment  Unemployment_Rate\n",
              "0  1001    AL  Autauga County  ...      21672.0         953.0                4.4\n",
              "1  1001    AL  Autauga County  ...      21779.0         984.0                4.5\n",
              "2  1001    AL  Autauga County  ...      21710.0         838.0                3.9\n",
              "3  1001    AL  Autauga County  ...      21631.0         681.0                3.1\n",
              "4  1001    AL  Autauga County  ...      21641.0         762.0                3.5\n",
              "\n",
              "[5 rows x 9 columns]"
            ]
          },
          "metadata": {
            "tags": []
          },
          "execution_count": 13
        }
      ]
    },
    {
      "cell_type": "code",
      "metadata": {
        "id": "qbCBspTPnK-w"
      },
      "source": [
        "L=list(data.state.unique())"
      ],
      "execution_count": 14,
      "outputs": []
    },
    {
      "cell_type": "code",
      "metadata": {
        "colab": {
          "base_uri": "https://localhost:8080/"
        },
        "id": "LOmfvqjRn0IW",
        "outputId": "3d134a80-ee3c-4093-b1ca-c0e154e4b658"
      },
      "source": [
        "len(L)"
      ],
      "execution_count": 15,
      "outputs": [
        {
          "output_type": "execute_result",
          "data": {
            "text/plain": [
              "51"
            ]
          },
          "metadata": {
            "tags": []
          },
          "execution_count": 15
        }
      ]
    }
  ]
}